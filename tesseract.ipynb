{
  "nbformat": 4,
  "nbformat_minor": 0,
  "metadata": {
    "colab": {
      "name": "tesseract.ipynb",
      "provenance": [],
      "collapsed_sections": [],
      "authorship_tag": "ABX9TyOJDuYZG4TVjtc9Bigjqr7Y",
      "include_colab_link": true
    },
    "kernelspec": {
      "name": "python3",
      "display_name": "Python 3"
    }
  },
  "cells": [
    {
      "cell_type": "markdown",
      "metadata": {
        "id": "view-in-github",
        "colab_type": "text"
      },
      "source": [
        "<a href=\"https://colab.research.google.com/github/mbhoshen/Detectron/blob/master/tesseract.ipynb\" target=\"_parent\"><img src=\"https://colab.research.google.com/assets/colab-badge.svg\" alt=\"Open In Colab\"/></a>"
      ]
    },
    {
      "cell_type": "code",
      "metadata": {
        "id": "oj_zrtglNjpq",
        "colab_type": "code",
        "colab": {}
      },
      "source": [
        "import ttf-mscorefonts-installer"
      ],
      "execution_count": 0,
      "outputs": []
    },
    {
      "cell_type": "markdown",
      "metadata": {
        "id": "a6jRwb6fSZQv",
        "colab_type": "text"
      },
      "source": [
        "using https://tesseract-ocr.github.io/tessdoc/TrainingTesseract-4.00.html#fine-tuning-for--a-few-characters"
      ]
    },
    {
      "cell_type": "code",
      "metadata": {
        "id": "B0lmvz5mN2Tp",
        "colab_type": "code",
        "colab": {
          "base_uri": "https://localhost:8080/",
          "height": 204
        },
        "outputId": "7fddbfba-446e-41d6-af7c-a3d35633806e"
      },
      "source": [
        "!wget https://raw.githubusercontent.com/tesseract-ocr/langdata_lstm/master/Latin.unicharset"
      ],
      "execution_count": 3,
      "outputs": [
        {
          "output_type": "stream",
          "text": [
            "--2020-05-18 14:42:53--  https://raw.githubusercontent.com/tesseract-ocr/langdata_lstm/master/Latin.unicharset\n",
            "Resolving raw.githubusercontent.com (raw.githubusercontent.com)... 151.101.0.133, 151.101.64.133, 151.101.128.133, ...\n",
            "Connecting to raw.githubusercontent.com (raw.githubusercontent.com)|151.101.0.133|:443... connected.\n",
            "HTTP request sent, awaiting response... 200 OK\n",
            "Length: 267393 (261K) [text/plain]\n",
            "Saving to: ‘Latin.unicharset’\n",
            "\n",
            "\rLatin.unicharset      0%[                    ]       0  --.-KB/s               \rLatin.unicharset    100%[===================>] 261.13K  --.-KB/s    in 0.04s   \n",
            "\n",
            "2020-05-18 14:42:53 (5.79 MB/s) - ‘Latin.unicharset’ saved [267393/267393]\n",
            "\n"
          ],
          "name": "stdout"
        }
      ]
    },
    {
      "cell_type": "code",
      "metadata": {
        "id": "7B-4W4poQjTl",
        "colab_type": "code",
        "colab": {}
      },
      "source": [
        "mkdir ~/tesstutorial"
      ],
      "execution_count": 0,
      "outputs": []
    },
    {
      "cell_type": "code",
      "metadata": {
        "id": "c1F_fsDEQvPJ",
        "colab_type": "code",
        "colab": {
          "base_uri": "https://localhost:8080/",
          "height": 34
        },
        "outputId": "d16d3f3b-7c1c-4461-ccd5-f865cc5b1665"
      },
      "source": [
        "cd ~/tesstutorial"
      ],
      "execution_count": 5,
      "outputs": [
        {
          "output_type": "stream",
          "text": [
            "/root/tesstutorial\n"
          ],
          "name": "stdout"
        }
      ]
    },
    {
      "cell_type": "code",
      "metadata": {
        "id": "VJrN5QABQ4g8",
        "colab_type": "code",
        "colab": {
          "base_uri": "https://localhost:8080/",
          "height": 1000
        },
        "outputId": "ed98013f-10b6-4281-a50d-0ee759f79e8a"
      },
      "source": [
        "!wget https://raw.githubusercontent.com/tesseract-ocr/langdata_lstm/master/radical-stroke.txt\n",
        "!wget https://raw.githubusercontent.com/tesseract-ocr/langdata_lstm/master/common.punc\n",
        "!wget https://raw.githubusercontent.com/tesseract-ocr/langdata_lstm/master/font_properties\n",
        "!wget https://raw.githubusercontent.com/tesseract-ocr/langdata_lstm/master/Latin.unicharset\n",
        "!wget https://raw.githubusercontent.com/tesseract-ocr/langdata_lstm/master/Latin.xheights\n"
      ],
      "execution_count": 7,
      "outputs": [
        {
          "output_type": "stream",
          "text": [
            "--2020-05-18 14:51:57--  https://raw.githubusercontent.com/tesseract-ocr/langdata_lstm/master/radical-stroke.txt\n",
            "Resolving raw.githubusercontent.com (raw.githubusercontent.com)... 151.101.0.133, 151.101.64.133, 151.101.128.133, ...\n",
            "Connecting to raw.githubusercontent.com (raw.githubusercontent.com)|151.101.0.133|:443... connected.\n",
            "HTTP request sent, awaiting response... 200 OK\n",
            "Length: 330874 (323K) [text/plain]\n",
            "Saving to: ‘radical-stroke.txt’\n",
            "\n",
            "\rradical-stroke.txt    0%[                    ]       0  --.-KB/s               \rradical-stroke.txt  100%[===================>] 323.12K  --.-KB/s    in 0.05s   \n",
            "\n",
            "2020-05-18 14:51:58 (6.27 MB/s) - ‘radical-stroke.txt’ saved [330874/330874]\n",
            "\n",
            "--2020-05-18 14:52:04--  https://raw.githubusercontent.com/tesseract-ocr/langdata_lstm/master/common.punc\n",
            "Resolving raw.githubusercontent.com (raw.githubusercontent.com)... 151.101.0.133, 151.101.64.133, 151.101.128.133, ...\n",
            "Connecting to raw.githubusercontent.com (raw.githubusercontent.com)|151.101.0.133|:443... connected.\n",
            "HTTP request sent, awaiting response... 200 OK\n",
            "Length: 6082 (5.9K) [text/plain]\n",
            "Saving to: ‘common.punc’\n",
            "\n",
            "common.punc         100%[===================>]   5.94K  --.-KB/s    in 0s      \n",
            "\n",
            "2020-05-18 14:52:04 (57.7 MB/s) - ‘common.punc’ saved [6082/6082]\n",
            "\n",
            "--2020-05-18 14:52:10--  https://raw.githubusercontent.com/tesseract-ocr/langdata_lstm/master/font_properties\n",
            "Resolving raw.githubusercontent.com (raw.githubusercontent.com)... 151.101.0.133, 151.101.64.133, 151.101.128.133, ...\n",
            "Connecting to raw.githubusercontent.com (raw.githubusercontent.com)|151.101.0.133|:443... connected.\n",
            "HTTP request sent, awaiting response... 200 OK\n",
            "Length: 198211 (194K) [text/plain]\n",
            "Saving to: ‘font_properties’\n",
            "\n",
            "font_properties     100%[===================>] 193.57K  --.-KB/s    in 0.04s   \n",
            "\n",
            "2020-05-18 14:52:10 (5.38 MB/s) - ‘font_properties’ saved [198211/198211]\n",
            "\n",
            "--2020-05-18 14:52:14--  https://raw.githubusercontent.com/tesseract-ocr/langdata_lstm/master/Latin.unicharset\n",
            "Resolving raw.githubusercontent.com (raw.githubusercontent.com)... 151.101.0.133, 151.101.64.133, 151.101.128.133, ...\n",
            "Connecting to raw.githubusercontent.com (raw.githubusercontent.com)|151.101.0.133|:443... connected.\n",
            "HTTP request sent, awaiting response... 200 OK\n",
            "Length: 267393 (261K) [text/plain]\n",
            "Saving to: ‘Latin.unicharset’\n",
            "\n",
            "Latin.unicharset    100%[===================>] 261.13K  --.-KB/s    in 0.04s   \n",
            "\n",
            "2020-05-18 14:52:14 (5.92 MB/s) - ‘Latin.unicharset’ saved [267393/267393]\n",
            "\n",
            "--2020-05-18 14:52:19--  https://raw.githubusercontent.com/tesseract-ocr/langdata_lstm/master/Latin.xheights\n",
            "Resolving raw.githubusercontent.com (raw.githubusercontent.com)... 151.101.0.133, 151.101.64.133, 151.101.128.133, ...\n",
            "Connecting to raw.githubusercontent.com (raw.githubusercontent.com)|151.101.0.133|:443... connected.\n",
            "HTTP request sent, awaiting response... 200 OK\n",
            "Length: 3044 (3.0K) [text/plain]\n",
            "Saving to: ‘Latin.xheights’\n",
            "\n",
            "Latin.xheights      100%[===================>]   2.97K  --.-KB/s    in 0s      \n",
            "\n",
            "2020-05-18 14:52:19 (52.7 MB/s) - ‘Latin.xheights’ saved [3044/3044]\n",
            "\n"
          ],
          "name": "stdout"
        },
        {
          "output_type": "error",
          "ename": "NameError",
          "evalue": "ignored",
          "traceback": [
            "\u001b[0;31m---------------------------------------------------------------------------\u001b[0m",
            "\u001b[0;31mNameError\u001b[0m                                 Traceback (most recent call last)",
            "\u001b[0;32m<ipython-input-7-c58867b91787>\u001b[0m in \u001b[0;36m<module>\u001b[0;34m()\u001b[0m\n\u001b[1;32m      4\u001b[0m \u001b[0mget_ipython\u001b[0m\u001b[0;34m(\u001b[0m\u001b[0;34m)\u001b[0m\u001b[0;34m.\u001b[0m\u001b[0msystem\u001b[0m\u001b[0;34m(\u001b[0m\u001b[0;34m'wget https://raw.githubusercontent.com/tesseract-ocr/langdata_lstm/master/Latin.unicharset'\u001b[0m\u001b[0;34m)\u001b[0m\u001b[0;34m\u001b[0m\u001b[0;34m\u001b[0m\u001b[0m\n\u001b[1;32m      5\u001b[0m \u001b[0mget_ipython\u001b[0m\u001b[0;34m(\u001b[0m\u001b[0;34m)\u001b[0m\u001b[0;34m.\u001b[0m\u001b[0msystem\u001b[0m\u001b[0;34m(\u001b[0m\u001b[0;34m'wget https://raw.githubusercontent.com/tesseract-ocr/langdata_lstm/master/Latin.xheights'\u001b[0m\u001b[0;34m)\u001b[0m\u001b[0;34m\u001b[0m\u001b[0;34m\u001b[0m\u001b[0m\n\u001b[0;32m----> 6\u001b[0;31m \u001b[0mmkdir\u001b[0m \u001b[0;34m/\u001b[0m\u001b[0meng\u001b[0m\u001b[0;34m\u001b[0m\u001b[0;34m\u001b[0m\u001b[0m\n\u001b[0m\u001b[1;32m      7\u001b[0m \u001b[0mcd\u001b[0m \u001b[0;34m/\u001b[0m\u001b[0meng\u001b[0m\u001b[0;34m\u001b[0m\u001b[0;34m\u001b[0m\u001b[0m\n\u001b[1;32m      8\u001b[0m \u001b[0mget_ipython\u001b[0m\u001b[0;34m(\u001b[0m\u001b[0;34m)\u001b[0m\u001b[0;34m.\u001b[0m\u001b[0msystem\u001b[0m\u001b[0;34m(\u001b[0m\u001b[0;34m'wget https://raw.githubusercontent.com/tesseract-ocr/langdata/master/eng/eng.training_text'\u001b[0m\u001b[0;34m)\u001b[0m\u001b[0;34m\u001b[0m\u001b[0;34m\u001b[0m\u001b[0m\n",
            "\u001b[0;31mNameError\u001b[0m: name 'mkdir' is not defined"
          ]
        }
      ]
    },
    {
      "cell_type": "code",
      "metadata": {
        "id": "l02jvyIoRqvx",
        "colab_type": "code",
        "colab": {
          "base_uri": "https://localhost:8080/",
          "height": 782
        },
        "outputId": "d94c4f8f-d35e-4386-9865-21ab5feb74c3"
      },
      "source": [
        "%mkdir ~/tesstutorial/eng\n",
        "%cd ~/tesstutorial/eng\n",
        "!wget https://raw.githubusercontent.com/tesseract-ocr/langdata/master/eng/eng.training_text\n",
        "!wget https://raw.githubusercontent.com/tesseract-ocr/langdata/master/eng/eng.punc\n",
        "!wget https://raw.githubusercontent.com/tesseract-ocr/langdata/master/eng/eng.numbers\n",
        "!wget https://raw.githubusercontent.com/tesseract-ocr/langdata/master/eng/eng.wordlist"
      ],
      "execution_count": 9,
      "outputs": [
        {
          "output_type": "stream",
          "text": [
            "/root/tesstutorial/eng\n",
            "--2020-05-18 14:54:39--  https://raw.githubusercontent.com/tesseract-ocr/langdata/master/eng/eng.training_text\n",
            "Resolving raw.githubusercontent.com (raw.githubusercontent.com)... 151.101.0.133, 151.101.64.133, 151.101.128.133, ...\n",
            "Connecting to raw.githubusercontent.com (raw.githubusercontent.com)|151.101.0.133|:443... connected.\n",
            "HTTP request sent, awaiting response... 200 OK\n",
            "Length: 6801 (6.6K) [text/plain]\n",
            "Saving to: ‘eng.training_text’\n",
            "\n",
            "eng.training_text   100%[===================>]   6.64K  --.-KB/s    in 0s      \n",
            "\n",
            "2020-05-18 14:54:40 (86.0 MB/s) - ‘eng.training_text’ saved [6801/6801]\n",
            "\n",
            "--2020-05-18 14:54:48--  https://raw.githubusercontent.com/tesseract-ocr/langdata/master/eng/eng.punc\n",
            "Resolving raw.githubusercontent.com (raw.githubusercontent.com)... 151.101.0.133, 151.101.64.133, 151.101.128.133, ...\n",
            "Connecting to raw.githubusercontent.com (raw.githubusercontent.com)|151.101.0.133|:443... connected.\n",
            "HTTP request sent, awaiting response... 200 OK\n",
            "Length: 6082 (5.9K) [text/plain]\n",
            "Saving to: ‘eng.punc’\n",
            "\n",
            "eng.punc            100%[===================>]   5.94K  --.-KB/s    in 0s      \n",
            "\n",
            "2020-05-18 14:54:48 (78.1 MB/s) - ‘eng.punc’ saved [6082/6082]\n",
            "\n",
            "--2020-05-18 14:54:51--  https://raw.githubusercontent.com/tesseract-ocr/langdata/master/eng/eng.numbers\n",
            "Resolving raw.githubusercontent.com (raw.githubusercontent.com)... 151.101.0.133, 151.101.64.133, 151.101.128.133, ...\n",
            "Connecting to raw.githubusercontent.com (raw.githubusercontent.com)|151.101.0.133|:443... connected.\n",
            "HTTP request sent, awaiting response... 200 OK\n",
            "Length: 2235 (2.2K) [text/plain]\n",
            "Saving to: ‘eng.numbers’\n",
            "\n",
            "eng.numbers         100%[===================>]   2.18K  --.-KB/s    in 0s      \n",
            "\n",
            "2020-05-18 14:54:51 (24.4 MB/s) - ‘eng.numbers’ saved [2235/2235]\n",
            "\n",
            "--2020-05-18 14:54:57--  https://raw.githubusercontent.com/tesseract-ocr/langdata/master/eng/eng.wordlist\n",
            "Resolving raw.githubusercontent.com (raw.githubusercontent.com)... 151.101.0.133, 151.101.64.133, 151.101.128.133, ...\n",
            "Connecting to raw.githubusercontent.com (raw.githubusercontent.com)|151.101.0.133|:443... connected.\n",
            "HTTP request sent, awaiting response... 200 OK\n",
            "Length: 3852057 (3.7M) [text/plain]\n",
            "Saving to: ‘eng.wordlist’\n",
            "\n",
            "eng.wordlist        100%[===================>]   3.67M  15.0MB/s    in 0.2s    \n",
            "\n",
            "2020-05-18 14:54:57 (15.0 MB/s) - ‘eng.wordlist’ saved [3852057/3852057]\n",
            "\n"
          ],
          "name": "stdout"
        }
      ]
    },
    {
      "cell_type": "markdown",
      "metadata": {
        "id": "rpn76BP1SWzg",
        "colab_type": "text"
      },
      "source": [
        ""
      ]
    },
    {
      "cell_type": "code",
      "metadata": {
        "id": "HgGXfzQdTmNJ",
        "colab_type": "code",
        "colab": {
          "base_uri": "https://localhost:8080/",
          "height": 1000
        },
        "outputId": "271404b2-285f-414b-fb3a-1ca7bafa2241"
      },
      "source": [
        "%cd ~/tesstutorial\n",
        "!git clone --depth 1 https://github.com/tesseract-ocr/tesseract.git\n",
        "%cd ~/tesstutorial/tesseract/tessdata\n",
        "!wget https://github.com/tesseract-ocr/tessdata/raw/master/eng.traineddata\n",
        "!wget https://github.com/tesseract-ocr/tessdata/raw/master/osd.traineddata\n",
        "%mkdir ~/tesstutorial/tesseract/tessdata/best\n",
        "%cd ~/tesstutorial/tesseract/tessdata/best\n",
        "!wget https://github.com/tesseract-ocr/tessdata_best/raw/master/eng.traineddata\n",
        "!wget https://github.com/tesseract-ocr/tessdata_best/raw/master/heb.traineddata\n",
        "!wget https://github.com/tesseract-ocr/tessdata_best/raw/master/chi_sim.traineddata\n"
      ],
      "execution_count": 11,
      "outputs": [
        {
          "output_type": "stream",
          "text": [
            "/root/tesstutorial\n",
            "Cloning into 'tesseract'...\n",
            "remote: Enumerating objects: 779, done.\u001b[K\n",
            "remote: Counting objects: 100% (779/779), done.\u001b[K\n",
            "remote: Compressing objects: 100% (744/744), done.\u001b[K\n",
            "remote: Total 779 (delta 67), reused 103 (delta 6), pack-reused 0\u001b[K\n",
            "Receiving objects: 100% (779/779), 2.31 MiB | 9.52 MiB/s, done.\n",
            "Resolving deltas: 100% (67/67), done.\n",
            "/root/tesstutorial/tesseract/tessdata\n",
            "--2020-05-18 15:05:52--  https://github.com/tesseract-ocr/tessdata/raw/master/eng.traineddata\n",
            "Resolving github.com (github.com)... 140.82.113.4\n",
            "Connecting to github.com (github.com)|140.82.113.4|:443... connected.\n",
            "HTTP request sent, awaiting response... 302 Found\n",
            "Location: https://raw.githubusercontent.com/tesseract-ocr/tessdata/master/eng.traineddata [following]\n",
            "--2020-05-18 15:05:53--  https://raw.githubusercontent.com/tesseract-ocr/tessdata/master/eng.traineddata\n",
            "Resolving raw.githubusercontent.com (raw.githubusercontent.com)... 151.101.0.133, 151.101.64.133, 151.101.128.133, ...\n",
            "Connecting to raw.githubusercontent.com (raw.githubusercontent.com)|151.101.0.133|:443... connected.\n",
            "HTTP request sent, awaiting response... 200 OK\n",
            "Length: 23466654 (22M) [application/octet-stream]\n",
            "Saving to: ‘eng.traineddata’\n",
            "\n",
            "eng.traineddata     100%[===================>]  22.38M  39.4MB/s    in 0.6s    \n",
            "\n",
            "2020-05-18 15:05:53 (39.4 MB/s) - ‘eng.traineddata’ saved [23466654/23466654]\n",
            "\n",
            "--2020-05-18 15:06:01--  https://github.com/tesseract-ocr/tessdata/raw/master/osd.traineddata\n",
            "Resolving github.com (github.com)... 140.82.113.3\n",
            "Connecting to github.com (github.com)|140.82.113.3|:443... connected.\n",
            "HTTP request sent, awaiting response... 302 Found\n",
            "Location: https://raw.githubusercontent.com/tesseract-ocr/tessdata/master/osd.traineddata [following]\n",
            "--2020-05-18 15:06:01--  https://raw.githubusercontent.com/tesseract-ocr/tessdata/master/osd.traineddata\n",
            "Resolving raw.githubusercontent.com (raw.githubusercontent.com)... 151.101.0.133, 151.101.64.133, 151.101.128.133, ...\n",
            "Connecting to raw.githubusercontent.com (raw.githubusercontent.com)|151.101.0.133|:443... connected.\n",
            "HTTP request sent, awaiting response... 200 OK\n",
            "Length: 10562874 (10M) [application/octet-stream]\n",
            "Saving to: ‘osd.traineddata’\n",
            "\n",
            "osd.traineddata     100%[===================>]  10.07M  24.0MB/s    in 0.4s    \n",
            "\n",
            "2020-05-18 15:06:02 (24.0 MB/s) - ‘osd.traineddata’ saved [10562874/10562874]\n",
            "\n",
            "/root/tesstutorial/tesseract/tessdata/best\n",
            "--2020-05-18 15:06:10--  https://github.com/tesseract-ocr/tessdata_best/raw/master/eng.traineddata\n",
            "Resolving github.com (github.com)... 140.82.113.3\n",
            "Connecting to github.com (github.com)|140.82.113.3|:443... connected.\n",
            "HTTP request sent, awaiting response... 302 Found\n",
            "Location: https://raw.githubusercontent.com/tesseract-ocr/tessdata_best/master/eng.traineddata [following]\n",
            "--2020-05-18 15:06:11--  https://raw.githubusercontent.com/tesseract-ocr/tessdata_best/master/eng.traineddata\n",
            "Resolving raw.githubusercontent.com (raw.githubusercontent.com)... 151.101.0.133, 151.101.64.133, 151.101.128.133, ...\n",
            "Connecting to raw.githubusercontent.com (raw.githubusercontent.com)|151.101.0.133|:443... connected.\n",
            "HTTP request sent, awaiting response... 200 OK\n",
            "Length: 15400601 (15M) [application/octet-stream]\n",
            "Saving to: ‘eng.traineddata’\n",
            "\n",
            "eng.traineddata     100%[===================>]  14.69M  30.3MB/s    in 0.5s    \n",
            "\n",
            "2020-05-18 15:06:11 (30.3 MB/s) - ‘eng.traineddata’ saved [15400601/15400601]\n",
            "\n",
            "--2020-05-18 15:06:16--  https://github.com/tesseract-ocr/tessdata_best/raw/master/heb.traineddata\n",
            "Resolving github.com (github.com)... 140.82.113.3\n",
            "Connecting to github.com (github.com)|140.82.113.3|:443... connected.\n",
            "HTTP request sent, awaiting response... 302 Found\n",
            "Location: https://raw.githubusercontent.com/tesseract-ocr/tessdata_best/master/heb.traineddata [following]\n",
            "--2020-05-18 15:06:17--  https://raw.githubusercontent.com/tesseract-ocr/tessdata_best/master/heb.traineddata\n",
            "Resolving raw.githubusercontent.com (raw.githubusercontent.com)... 151.101.0.133, 151.101.64.133, 151.101.128.133, ...\n",
            "Connecting to raw.githubusercontent.com (raw.githubusercontent.com)|151.101.0.133|:443... connected.\n",
            "HTTP request sent, awaiting response... 200 OK\n",
            "Length: 3704077 (3.5M) [application/octet-stream]\n",
            "Saving to: ‘heb.traineddata’\n",
            "\n",
            "heb.traineddata     100%[===================>]   3.53M  --.-KB/s    in 0.08s   \n",
            "\n",
            "2020-05-18 15:06:17 (43.7 MB/s) - ‘heb.traineddata’ saved [3704077/3704077]\n",
            "\n",
            "--2020-05-18 15:06:21--  https://github.com/tesseract-ocr/tessdata_best/raw/master/chi_sim.traineddata\n",
            "Resolving github.com (github.com)... 140.82.113.3\n",
            "Connecting to github.com (github.com)|140.82.113.3|:443... connected.\n",
            "HTTP request sent, awaiting response... 302 Found\n",
            "Location: https://raw.githubusercontent.com/tesseract-ocr/tessdata_best/master/chi_sim.traineddata [following]\n",
            "--2020-05-18 15:06:21--  https://raw.githubusercontent.com/tesseract-ocr/tessdata_best/master/chi_sim.traineddata\n",
            "Resolving raw.githubusercontent.com (raw.githubusercontent.com)... 151.101.0.133, 151.101.64.133, 151.101.128.133, ...\n",
            "Connecting to raw.githubusercontent.com (raw.githubusercontent.com)|151.101.0.133|:443... connected.\n",
            "HTTP request sent, awaiting response... 200 OK\n",
            "Length: 13077423 (12M) [application/octet-stream]\n",
            "Saving to: ‘chi_sim.traineddata’\n",
            "\n",
            "chi_sim.traineddata 100%[===================>]  12.47M  27.6MB/s    in 0.5s    \n",
            "\n",
            "2020-05-18 15:06:22 (27.6 MB/s) - ‘chi_sim.traineddata’ saved [13077423/13077423]\n",
            "\n"
          ],
          "name": "stdout"
        }
      ]
    },
    {
      "cell_type": "code",
      "metadata": {
        "id": "b35K-z9wXo1T",
        "colab_type": "code",
        "colab": {
          "base_uri": "https://localhost:8080/",
          "height": 1000
        },
        "outputId": "d44358ce-47cb-4052-9234-4ac2893b742d"
      },
      "source": [
        "!apt-get -qq install -y  libicu-dev libpango1.0-dev libcairo2-dev"
      ],
      "execution_count": 17,
      "outputs": [
        {
          "output_type": "stream",
          "text": [
            "Extracting templates from packages: 100%\n",
            "Selecting previously unselected package libmagic-mgc.\n",
            "(Reading database ... 144433 files and directories currently installed.)\n",
            "Preparing to unpack .../00-libmagic-mgc_1%3a5.32-2ubuntu0.4_amd64.deb ...\n",
            "Unpacking libmagic-mgc (1:5.32-2ubuntu0.4) ...\n",
            "Selecting previously unselected package libmagic1:amd64.\n",
            "Preparing to unpack .../01-libmagic1_1%3a5.32-2ubuntu0.4_amd64.deb ...\n",
            "Unpacking libmagic1:amd64 (1:5.32-2ubuntu0.4) ...\n",
            "Selecting previously unselected package file.\n",
            "Preparing to unpack .../02-file_1%3a5.32-2ubuntu0.4_amd64.deb ...\n",
            "Unpacking file (1:5.32-2ubuntu0.4) ...\n",
            "Selecting previously unselected package gettext-base.\n",
            "Preparing to unpack .../03-gettext-base_0.19.8.1-6ubuntu0.3_amd64.deb ...\n",
            "Unpacking gettext-base (0.19.8.1-6ubuntu0.3) ...\n",
            "Selecting previously unselected package libsigsegv2:amd64.\n",
            "Preparing to unpack .../04-libsigsegv2_2.12-1_amd64.deb ...\n",
            "Unpacking libsigsegv2:amd64 (2.12-1) ...\n",
            "Selecting previously unselected package m4.\n",
            "Preparing to unpack .../05-m4_1.4.18-1_amd64.deb ...\n",
            "Unpacking m4 (1.4.18-1) ...\n",
            "Selecting previously unselected package autoconf.\n",
            "Preparing to unpack .../06-autoconf_2.69-11_all.deb ...\n",
            "Unpacking autoconf (2.69-11) ...\n",
            "Selecting previously unselected package autotools-dev.\n",
            "Preparing to unpack .../07-autotools-dev_20180224.1_all.deb ...\n",
            "Unpacking autotools-dev (20180224.1) ...\n",
            "Selecting previously unselected package automake.\n",
            "Preparing to unpack .../08-automake_1%3a1.15.1-3ubuntu2_all.deb ...\n",
            "Unpacking automake (1:1.15.1-3ubuntu2) ...\n",
            "Selecting previously unselected package autopoint.\n",
            "Preparing to unpack .../09-autopoint_0.19.8.1-6ubuntu0.3_all.deb ...\n",
            "Unpacking autopoint (0.19.8.1-6ubuntu0.3) ...\n",
            "Selecting previously unselected package libtool.\n",
            "Preparing to unpack .../10-libtool_2.4.6-2_all.deb ...\n",
            "Unpacking libtool (2.4.6-2) ...\n",
            "Selecting previously unselected package dh-autoreconf.\n",
            "Preparing to unpack .../11-dh-autoreconf_17_all.deb ...\n",
            "Unpacking dh-autoreconf (17) ...\n",
            "Selecting previously unselected package libarchive-zip-perl.\n",
            "Preparing to unpack .../12-libarchive-zip-perl_1.60-1ubuntu0.1_all.deb ...\n",
            "Unpacking libarchive-zip-perl (1.60-1ubuntu0.1) ...\n",
            "Selecting previously unselected package libfile-stripnondeterminism-perl.\n",
            "Preparing to unpack .../13-libfile-stripnondeterminism-perl_0.040-1.1~build1_all.deb ...\n",
            "Unpacking libfile-stripnondeterminism-perl (0.040-1.1~build1) ...\n",
            "Selecting previously unselected package libtimedate-perl.\n",
            "Preparing to unpack .../14-libtimedate-perl_2.3000-2_all.deb ...\n",
            "Unpacking libtimedate-perl (2.3000-2) ...\n",
            "Selecting previously unselected package dh-strip-nondeterminism.\n",
            "Preparing to unpack .../15-dh-strip-nondeterminism_0.040-1.1~build1_all.deb ...\n",
            "Unpacking dh-strip-nondeterminism (0.040-1.1~build1) ...\n",
            "Selecting previously unselected package gettext.\n",
            "Preparing to unpack .../16-gettext_0.19.8.1-6ubuntu0.3_amd64.deb ...\n",
            "Unpacking gettext (0.19.8.1-6ubuntu0.3) ...\n",
            "Selecting previously unselected package intltool-debian.\n",
            "Preparing to unpack .../17-intltool-debian_0.35.0+20060710.4_all.deb ...\n",
            "Unpacking intltool-debian (0.35.0+20060710.4) ...\n",
            "Selecting previously unselected package po-debconf.\n",
            "Preparing to unpack .../18-po-debconf_1.0.20_all.deb ...\n",
            "Unpacking po-debconf (1.0.20) ...\n",
            "Selecting previously unselected package debhelper.\n",
            "Preparing to unpack .../19-debhelper_11.1.6ubuntu2_all.deb ...\n",
            "Unpacking debhelper (11.1.6ubuntu2) ...\n",
            "Selecting previously unselected package gir1.2-freedesktop:amd64.\n",
            "Preparing to unpack .../20-gir1.2-freedesktop_1.56.1-1_amd64.deb ...\n",
            "Unpacking gir1.2-freedesktop:amd64 (1.56.1-1) ...\n",
            "Selecting previously unselected package libpangoxft-1.0-0:amd64.\n",
            "Preparing to unpack .../21-libpangoxft-1.0-0_1.40.14-1ubuntu0.1_amd64.deb ...\n",
            "Unpacking libpangoxft-1.0-0:amd64 (1.40.14-1ubuntu0.1) ...\n",
            "Selecting previously unselected package gir1.2-pango-1.0:amd64.\n",
            "Preparing to unpack .../22-gir1.2-pango-1.0_1.40.14-1ubuntu0.1_amd64.deb ...\n",
            "Unpacking gir1.2-pango-1.0:amd64 (1.40.14-1ubuntu0.1) ...\n",
            "Selecting previously unselected package libarchive-cpio-perl.\n",
            "Preparing to unpack .../23-libarchive-cpio-perl_0.10-1_all.deb ...\n",
            "Unpacking libarchive-cpio-perl (0.10-1) ...\n",
            "Selecting previously unselected package libcairo-script-interpreter2:amd64.\n",
            "Preparing to unpack .../24-libcairo-script-interpreter2_1.15.10-2ubuntu0.1_amd64.deb ...\n",
            "Unpacking libcairo-script-interpreter2:amd64 (1.15.10-2ubuntu0.1) ...\n",
            "Selecting previously unselected package libpixman-1-dev:amd64.\n",
            "Preparing to unpack .../25-libpixman-1-dev_0.34.0-2_amd64.deb ...\n",
            "Unpacking libpixman-1-dev:amd64 (0.34.0-2) ...\n",
            "Selecting previously unselected package libxcb-shm0-dev:amd64.\n",
            "Preparing to unpack .../26-libxcb-shm0-dev_1.13-2~ubuntu18.04_amd64.deb ...\n",
            "Unpacking libxcb-shm0-dev:amd64 (1.13-2~ubuntu18.04) ...\n",
            "Selecting previously unselected package libcairo2-dev:amd64.\n",
            "Preparing to unpack .../27-libcairo2-dev_1.15.10-2ubuntu0.1_amd64.deb ...\n",
            "Unpacking libcairo2-dev:amd64 (1.15.10-2ubuntu0.1) ...\n",
            "Selecting previously unselected package libsys-hostname-long-perl.\n",
            "Preparing to unpack .../28-libsys-hostname-long-perl_1.5-1_all.deb ...\n",
            "Unpacking libsys-hostname-long-perl (1.5-1) ...\n",
            "Selecting previously unselected package libmail-sendmail-perl.\n",
            "Preparing to unpack .../29-libmail-sendmail-perl_0.80-1_all.deb ...\n",
            "Unpacking libmail-sendmail-perl (0.80-1) ...\n",
            "Selecting previously unselected package libpango1.0-dev.\n",
            "Preparing to unpack .../30-libpango1.0-dev_1.40.14-1ubuntu0.1_amd64.deb ...\n",
            "Unpacking libpango1.0-dev (1.40.14-1ubuntu0.1) ...\n",
            "Setting up libarchive-zip-perl (1.60-1ubuntu0.1) ...\n",
            "Setting up libtimedate-perl (2.3000-2) ...\n",
            "Setting up libcairo-script-interpreter2:amd64 (1.15.10-2ubuntu0.1) ...\n",
            "Setting up libsigsegv2:amd64 (2.12-1) ...\n",
            "Setting up gir1.2-freedesktop:amd64 (1.56.1-1) ...\n",
            "Setting up libxcb-shm0-dev:amd64 (1.13-2~ubuntu18.04) ...\n",
            "Setting up libpangoxft-1.0-0:amd64 (1.40.14-1ubuntu0.1) ...\n",
            "Setting up libarchive-cpio-perl (0.10-1) ...\n",
            "Setting up gettext-base (0.19.8.1-6ubuntu0.3) ...\n",
            "Setting up m4 (1.4.18-1) ...\n",
            "Setting up libmagic-mgc (1:5.32-2ubuntu0.4) ...\n",
            "Setting up gir1.2-pango-1.0:amd64 (1.40.14-1ubuntu0.1) ...\n",
            "Setting up libmagic1:amd64 (1:5.32-2ubuntu0.4) ...\n",
            "Setting up libsys-hostname-long-perl (1.5-1) ...\n",
            "Setting up libmail-sendmail-perl (0.80-1) ...\n",
            "Setting up autotools-dev (20180224.1) ...\n",
            "Setting up libpixman-1-dev:amd64 (0.34.0-2) ...\n",
            "Setting up autopoint (0.19.8.1-6ubuntu0.3) ...\n",
            "Setting up libfile-stripnondeterminism-perl (0.040-1.1~build1) ...\n",
            "Setting up libcairo2-dev:amd64 (1.15.10-2ubuntu0.1) ...\n",
            "Setting up gettext (0.19.8.1-6ubuntu0.3) ...\n",
            "Setting up autoconf (2.69-11) ...\n",
            "Setting up file (1:5.32-2ubuntu0.4) ...\n",
            "Setting up intltool-debian (0.35.0+20060710.4) ...\n",
            "Setting up automake (1:1.15.1-3ubuntu2) ...\n",
            "update-alternatives: using /usr/bin/automake-1.15 to provide /usr/bin/automake (automake) in auto mode\n",
            "Setting up libpango1.0-dev (1.40.14-1ubuntu0.1) ...\n",
            "Setting up libtool (2.4.6-2) ...\n",
            "Setting up po-debconf (1.0.20) ...\n",
            "Setting up dh-autoreconf (17) ...\n",
            "Setting up debhelper (11.1.6ubuntu2) ...\n",
            "Setting up dh-strip-nondeterminism (0.040-1.1~build1) ...\n",
            "Processing triggers for libc-bin (2.27-3ubuntu1) ...\n",
            "/sbin/ldconfig.real: /usr/local/lib/python3.6/dist-packages/ideep4py/lib/libmkldnn.so.0 is not a symbolic link\n",
            "\n",
            "Processing triggers for man-db (2.8.3-2ubuntu0.1) ...\n"
          ],
          "name": "stdout"
        }
      ]
    },
    {
      "cell_type": "code",
      "metadata": {
        "id": "Gs9x3OkJWu49",
        "colab_type": "code",
        "colab": {
          "base_uri": "https://localhost:8080/",
          "height": 51
        },
        "outputId": "6c3dd6c2-df13-40e0-9778-c45a54385065"
      },
      "source": [
        "!src/training/tesstrain.sh --fonts_dir /usr/share/fonts --lang eng --linedata_only \\\n",
        "  --noextract_font_properties --langdata_dir ../langdata \\\n",
        "  --tessdata_dir ./tessdata --output_dir ~/tesstutorial/trainplusminus\n",
        "!src/training/tesstrain.sh --fonts_dir /usr/share/fonts --lang eng --linedata_only \\\n",
        "  --noextract_font_properties --langdata_dir ../langdata \\\n",
        "  --tessdata_dir ./tessdata \\\n",
        "  --fontlist \"Impact Condensed\" --output_dir ~/tesstutorial/evalplusminus"
      ],
      "execution_count": 13,
      "outputs": [
        {
          "output_type": "stream",
          "text": [
            "/bin/bash: src/training/tesstrain.sh: No such file or directory\n",
            "/bin/bash: src/training/tesstrain.sh: No such file or directory\n"
          ],
          "name": "stdout"
        }
      ]
    }
  ]
}