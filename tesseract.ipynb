{
  "nbformat": 4,
  "nbformat_minor": 0,
  "metadata": {
    "colab": {
      "name": "tesseract.ipynb",
      "provenance": [],
      "collapsed_sections": [],
      "authorship_tag": "ABX9TyNURyPTN2ZDyHh9bNjjJB2P",
      "include_colab_link": true
    },
    "kernelspec": {
      "name": "python3",
      "display_name": "Python 3"
    }
  },
  "cells": [
    {
      "cell_type": "markdown",
      "metadata": {
        "id": "view-in-github",
        "colab_type": "text"
      },
      "source": [
        "<a href=\"https://colab.research.google.com/github/mbhoshen/Detectron/blob/master/tesseract.ipynb\" target=\"_parent\"><img src=\"https://colab.research.google.com/assets/colab-badge.svg\" alt=\"Open In Colab\"/></a>"
      ]
    },
    {
      "cell_type": "code",
      "metadata": {
        "id": "oj_zrtglNjpq",
        "colab_type": "code",
        "colab": {}
      },
      "source": [
        "import ttf-mscorefonts-installer"
      ],
      "execution_count": 0,
      "outputs": []
    },
    {
      "cell_type": "markdown",
      "metadata": {
        "id": "a6jRwb6fSZQv",
        "colab_type": "text"
      },
      "source": [
        "using https://tesseract-ocr.github.io/tessdoc/TrainingTesseract-4.00.html#fine-tuning-for--a-few-characters"
      ]
    },
    {
      "cell_type": "code",
      "metadata": {
        "id": "B0lmvz5mN2Tp",
        "colab_type": "code",
        "colab": {
          "base_uri": "https://localhost:8080/",
          "height": 204
        },
        "outputId": "7fddbfba-446e-41d6-af7c-a3d35633806e"
      },
      "source": [
        "!wget https://raw.githubusercontent.com/tesseract-ocr/langdata_lstm/master/Latin.unicharset"
      ],
      "execution_count": 3,
      "outputs": [
        {
          "output_type": "stream",
          "text": [
            "--2020-05-18 14:42:53--  https://raw.githubusercontent.com/tesseract-ocr/langdata_lstm/master/Latin.unicharset\n",
            "Resolving raw.githubusercontent.com (raw.githubusercontent.com)... 151.101.0.133, 151.101.64.133, 151.101.128.133, ...\n",
            "Connecting to raw.githubusercontent.com (raw.githubusercontent.com)|151.101.0.133|:443... connected.\n",
            "HTTP request sent, awaiting response... 200 OK\n",
            "Length: 267393 (261K) [text/plain]\n",
            "Saving to: ‘Latin.unicharset’\n",
            "\n",
            "\rLatin.unicharset      0%[                    ]       0  --.-KB/s               \rLatin.unicharset    100%[===================>] 261.13K  --.-KB/s    in 0.04s   \n",
            "\n",
            "2020-05-18 14:42:53 (5.79 MB/s) - ‘Latin.unicharset’ saved [267393/267393]\n",
            "\n"
          ],
          "name": "stdout"
        }
      ]
    },
    {
      "cell_type": "code",
      "metadata": {
        "id": "7B-4W4poQjTl",
        "colab_type": "code",
        "colab": {}
      },
      "source": [
        "mkdir ~/tesstutorial"
      ],
      "execution_count": 0,
      "outputs": []
    },
    {
      "cell_type": "code",
      "metadata": {
        "id": "c1F_fsDEQvPJ",
        "colab_type": "code",
        "colab": {
          "base_uri": "https://localhost:8080/",
          "height": 34
        },
        "outputId": "d16d3f3b-7c1c-4461-ccd5-f865cc5b1665"
      },
      "source": [
        "cd ~/tesstutorial"
      ],
      "execution_count": 5,
      "outputs": [
        {
          "output_type": "stream",
          "text": [
            "/root/tesstutorial\n"
          ],
          "name": "stdout"
        }
      ]
    },
    {
      "cell_type": "code",
      "metadata": {
        "id": "VJrN5QABQ4g8",
        "colab_type": "code",
        "colab": {
          "base_uri": "https://localhost:8080/",
          "height": 1000
        },
        "outputId": "ed98013f-10b6-4281-a50d-0ee759f79e8a"
      },
      "source": [
        "!wget https://raw.githubusercontent.com/tesseract-ocr/langdata_lstm/master/radical-stroke.txt\n",
        "!wget https://raw.githubusercontent.com/tesseract-ocr/langdata_lstm/master/common.punc\n",
        "!wget https://raw.githubusercontent.com/tesseract-ocr/langdata_lstm/master/font_properties\n",
        "!wget https://raw.githubusercontent.com/tesseract-ocr/langdata_lstm/master/Latin.unicharset\n",
        "!wget https://raw.githubusercontent.com/tesseract-ocr/langdata_lstm/master/Latin.xheights\n"
      ],
      "execution_count": 7,
      "outputs": [
        {
          "output_type": "stream",
          "text": [
            "--2020-05-18 14:51:57--  https://raw.githubusercontent.com/tesseract-ocr/langdata_lstm/master/radical-stroke.txt\n",
            "Resolving raw.githubusercontent.com (raw.githubusercontent.com)... 151.101.0.133, 151.101.64.133, 151.101.128.133, ...\n",
            "Connecting to raw.githubusercontent.com (raw.githubusercontent.com)|151.101.0.133|:443... connected.\n",
            "HTTP request sent, awaiting response... 200 OK\n",
            "Length: 330874 (323K) [text/plain]\n",
            "Saving to: ‘radical-stroke.txt’\n",
            "\n",
            "\rradical-stroke.txt    0%[                    ]       0  --.-KB/s               \rradical-stroke.txt  100%[===================>] 323.12K  --.-KB/s    in 0.05s   \n",
            "\n",
            "2020-05-18 14:51:58 (6.27 MB/s) - ‘radical-stroke.txt’ saved [330874/330874]\n",
            "\n",
            "--2020-05-18 14:52:04--  https://raw.githubusercontent.com/tesseract-ocr/langdata_lstm/master/common.punc\n",
            "Resolving raw.githubusercontent.com (raw.githubusercontent.com)... 151.101.0.133, 151.101.64.133, 151.101.128.133, ...\n",
            "Connecting to raw.githubusercontent.com (raw.githubusercontent.com)|151.101.0.133|:443... connected.\n",
            "HTTP request sent, awaiting response... 200 OK\n",
            "Length: 6082 (5.9K) [text/plain]\n",
            "Saving to: ‘common.punc’\n",
            "\n",
            "common.punc         100%[===================>]   5.94K  --.-KB/s    in 0s      \n",
            "\n",
            "2020-05-18 14:52:04 (57.7 MB/s) - ‘common.punc’ saved [6082/6082]\n",
            "\n",
            "--2020-05-18 14:52:10--  https://raw.githubusercontent.com/tesseract-ocr/langdata_lstm/master/font_properties\n",
            "Resolving raw.githubusercontent.com (raw.githubusercontent.com)... 151.101.0.133, 151.101.64.133, 151.101.128.133, ...\n",
            "Connecting to raw.githubusercontent.com (raw.githubusercontent.com)|151.101.0.133|:443... connected.\n",
            "HTTP request sent, awaiting response... 200 OK\n",
            "Length: 198211 (194K) [text/plain]\n",
            "Saving to: ‘font_properties’\n",
            "\n",
            "font_properties     100%[===================>] 193.57K  --.-KB/s    in 0.04s   \n",
            "\n",
            "2020-05-18 14:52:10 (5.38 MB/s) - ‘font_properties’ saved [198211/198211]\n",
            "\n",
            "--2020-05-18 14:52:14--  https://raw.githubusercontent.com/tesseract-ocr/langdata_lstm/master/Latin.unicharset\n",
            "Resolving raw.githubusercontent.com (raw.githubusercontent.com)... 151.101.0.133, 151.101.64.133, 151.101.128.133, ...\n",
            "Connecting to raw.githubusercontent.com (raw.githubusercontent.com)|151.101.0.133|:443... connected.\n",
            "HTTP request sent, awaiting response... 200 OK\n",
            "Length: 267393 (261K) [text/plain]\n",
            "Saving to: ‘Latin.unicharset’\n",
            "\n",
            "Latin.unicharset    100%[===================>] 261.13K  --.-KB/s    in 0.04s   \n",
            "\n",
            "2020-05-18 14:52:14 (5.92 MB/s) - ‘Latin.unicharset’ saved [267393/267393]\n",
            "\n",
            "--2020-05-18 14:52:19--  https://raw.githubusercontent.com/tesseract-ocr/langdata_lstm/master/Latin.xheights\n",
            "Resolving raw.githubusercontent.com (raw.githubusercontent.com)... 151.101.0.133, 151.101.64.133, 151.101.128.133, ...\n",
            "Connecting to raw.githubusercontent.com (raw.githubusercontent.com)|151.101.0.133|:443... connected.\n",
            "HTTP request sent, awaiting response... 200 OK\n",
            "Length: 3044 (3.0K) [text/plain]\n",
            "Saving to: ‘Latin.xheights’\n",
            "\n",
            "Latin.xheights      100%[===================>]   2.97K  --.-KB/s    in 0s      \n",
            "\n",
            "2020-05-18 14:52:19 (52.7 MB/s) - ‘Latin.xheights’ saved [3044/3044]\n",
            "\n"
          ],
          "name": "stdout"
        },
        {
          "output_type": "error",
          "ename": "NameError",
          "evalue": "ignored",
          "traceback": [
            "\u001b[0;31m---------------------------------------------------------------------------\u001b[0m",
            "\u001b[0;31mNameError\u001b[0m                                 Traceback (most recent call last)",
            "\u001b[0;32m<ipython-input-7-c58867b91787>\u001b[0m in \u001b[0;36m<module>\u001b[0;34m()\u001b[0m\n\u001b[1;32m      4\u001b[0m \u001b[0mget_ipython\u001b[0m\u001b[0;34m(\u001b[0m\u001b[0;34m)\u001b[0m\u001b[0;34m.\u001b[0m\u001b[0msystem\u001b[0m\u001b[0;34m(\u001b[0m\u001b[0;34m'wget https://raw.githubusercontent.com/tesseract-ocr/langdata_lstm/master/Latin.unicharset'\u001b[0m\u001b[0;34m)\u001b[0m\u001b[0;34m\u001b[0m\u001b[0;34m\u001b[0m\u001b[0m\n\u001b[1;32m      5\u001b[0m \u001b[0mget_ipython\u001b[0m\u001b[0;34m(\u001b[0m\u001b[0;34m)\u001b[0m\u001b[0;34m.\u001b[0m\u001b[0msystem\u001b[0m\u001b[0;34m(\u001b[0m\u001b[0;34m'wget https://raw.githubusercontent.com/tesseract-ocr/langdata_lstm/master/Latin.xheights'\u001b[0m\u001b[0;34m)\u001b[0m\u001b[0;34m\u001b[0m\u001b[0;34m\u001b[0m\u001b[0m\n\u001b[0;32m----> 6\u001b[0;31m \u001b[0mmkdir\u001b[0m \u001b[0;34m/\u001b[0m\u001b[0meng\u001b[0m\u001b[0;34m\u001b[0m\u001b[0;34m\u001b[0m\u001b[0m\n\u001b[0m\u001b[1;32m      7\u001b[0m \u001b[0mcd\u001b[0m \u001b[0;34m/\u001b[0m\u001b[0meng\u001b[0m\u001b[0;34m\u001b[0m\u001b[0;34m\u001b[0m\u001b[0m\n\u001b[1;32m      8\u001b[0m \u001b[0mget_ipython\u001b[0m\u001b[0;34m(\u001b[0m\u001b[0;34m)\u001b[0m\u001b[0;34m.\u001b[0m\u001b[0msystem\u001b[0m\u001b[0;34m(\u001b[0m\u001b[0;34m'wget https://raw.githubusercontent.com/tesseract-ocr/langdata/master/eng/eng.training_text'\u001b[0m\u001b[0;34m)\u001b[0m\u001b[0;34m\u001b[0m\u001b[0;34m\u001b[0m\u001b[0m\n",
            "\u001b[0;31mNameError\u001b[0m: name 'mkdir' is not defined"
          ]
        }
      ]
    },
    {
      "cell_type": "code",
      "metadata": {
        "id": "l02jvyIoRqvx",
        "colab_type": "code",
        "colab": {
          "base_uri": "https://localhost:8080/",
          "height": 782
        },
        "outputId": "d94c4f8f-d35e-4386-9865-21ab5feb74c3"
      },
      "source": [
        "%mkdir ~/tesstutorial/eng\n",
        "%cd ~/tesstutorial/eng\n",
        "!wget https://raw.githubusercontent.com/tesseract-ocr/langdata/master/eng/eng.training_text\n",
        "!wget https://raw.githubusercontent.com/tesseract-ocr/langdata/master/eng/eng.punc\n",
        "!wget https://raw.githubusercontent.com/tesseract-ocr/langdata/master/eng/eng.numbers\n",
        "!wget https://raw.githubusercontent.com/tesseract-ocr/langdata/master/eng/eng.wordlist"
      ],
      "execution_count": 9,
      "outputs": [
        {
          "output_type": "stream",
          "text": [
            "/root/tesstutorial/eng\n",
            "--2020-05-18 14:54:39--  https://raw.githubusercontent.com/tesseract-ocr/langdata/master/eng/eng.training_text\n",
            "Resolving raw.githubusercontent.com (raw.githubusercontent.com)... 151.101.0.133, 151.101.64.133, 151.101.128.133, ...\n",
            "Connecting to raw.githubusercontent.com (raw.githubusercontent.com)|151.101.0.133|:443... connected.\n",
            "HTTP request sent, awaiting response... 200 OK\n",
            "Length: 6801 (6.6K) [text/plain]\n",
            "Saving to: ‘eng.training_text’\n",
            "\n",
            "eng.training_text   100%[===================>]   6.64K  --.-KB/s    in 0s      \n",
            "\n",
            "2020-05-18 14:54:40 (86.0 MB/s) - ‘eng.training_text’ saved [6801/6801]\n",
            "\n",
            "--2020-05-18 14:54:48--  https://raw.githubusercontent.com/tesseract-ocr/langdata/master/eng/eng.punc\n",
            "Resolving raw.githubusercontent.com (raw.githubusercontent.com)... 151.101.0.133, 151.101.64.133, 151.101.128.133, ...\n",
            "Connecting to raw.githubusercontent.com (raw.githubusercontent.com)|151.101.0.133|:443... connected.\n",
            "HTTP request sent, awaiting response... 200 OK\n",
            "Length: 6082 (5.9K) [text/plain]\n",
            "Saving to: ‘eng.punc’\n",
            "\n",
            "eng.punc            100%[===================>]   5.94K  --.-KB/s    in 0s      \n",
            "\n",
            "2020-05-18 14:54:48 (78.1 MB/s) - ‘eng.punc’ saved [6082/6082]\n",
            "\n",
            "--2020-05-18 14:54:51--  https://raw.githubusercontent.com/tesseract-ocr/langdata/master/eng/eng.numbers\n",
            "Resolving raw.githubusercontent.com (raw.githubusercontent.com)... 151.101.0.133, 151.101.64.133, 151.101.128.133, ...\n",
            "Connecting to raw.githubusercontent.com (raw.githubusercontent.com)|151.101.0.133|:443... connected.\n",
            "HTTP request sent, awaiting response... 200 OK\n",
            "Length: 2235 (2.2K) [text/plain]\n",
            "Saving to: ‘eng.numbers’\n",
            "\n",
            "eng.numbers         100%[===================>]   2.18K  --.-KB/s    in 0s      \n",
            "\n",
            "2020-05-18 14:54:51 (24.4 MB/s) - ‘eng.numbers’ saved [2235/2235]\n",
            "\n",
            "--2020-05-18 14:54:57--  https://raw.githubusercontent.com/tesseract-ocr/langdata/master/eng/eng.wordlist\n",
            "Resolving raw.githubusercontent.com (raw.githubusercontent.com)... 151.101.0.133, 151.101.64.133, 151.101.128.133, ...\n",
            "Connecting to raw.githubusercontent.com (raw.githubusercontent.com)|151.101.0.133|:443... connected.\n",
            "HTTP request sent, awaiting response... 200 OK\n",
            "Length: 3852057 (3.7M) [text/plain]\n",
            "Saving to: ‘eng.wordlist’\n",
            "\n",
            "eng.wordlist        100%[===================>]   3.67M  15.0MB/s    in 0.2s    \n",
            "\n",
            "2020-05-18 14:54:57 (15.0 MB/s) - ‘eng.wordlist’ saved [3852057/3852057]\n",
            "\n"
          ],
          "name": "stdout"
        }
      ]
    },
    {
      "cell_type": "markdown",
      "metadata": {
        "id": "rpn76BP1SWzg",
        "colab_type": "text"
      },
      "source": [
        ""
      ]
    }
  ]
}